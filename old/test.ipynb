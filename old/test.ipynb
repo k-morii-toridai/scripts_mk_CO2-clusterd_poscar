{
 "cells": [
  {
   "cell_type": "code",
   "execution_count": 1,
   "id": "cb7fcba3-50ba-4643-9b01-9c7b26f26880",
   "metadata": {
    "tags": []
   },
   "outputs": [],
   "source": [
    "import numpy as np"
   ]
  },
  {
   "cell_type": "code",
   "execution_count": 7,
   "id": "72168cd9-1fe2-46da-822b-396caa1b2063",
   "metadata": {
    "tags": []
   },
   "outputs": [
    {
     "data": {
      "text/plain": [
       "array(['/mnt/ssd_elecom_black_c2c/cif/1/00/00/1000033',\n",
       "       '/mnt/ssd_elecom_black_c2c/cif/1/00/00/1000052',\n",
       "       '/mnt/ssd_elecom_black_c2c/cif/1/00/03/1000320', ...,\n",
       "       '/mnt/ssd_elecom_black_c2c/cif/9/01/77/9017727',\n",
       "       '/mnt/ssd_elecom_black_c2c/cif/9/01/78/9017813',\n",
       "       '/mnt/ssd_elecom_black_c2c/cif/9/01/78/9017837'], dtype='<U45')"
      ]
     },
     "execution_count": 7,
     "metadata": {},
     "output_type": "execute_result"
    }
   ],
   "source": [
    "np.load('/mnt/ssd_elecom_black_c2c/scripts_get_CO3-contained_poscar_folder_abs_path_list/CO3_contained_poscar_folder_abs_path_list.npy', allow_pickle=True)"
   ]
  }
 ],
 "metadata": {
  "kernelspec": {
   "display_name": "Python 3 (ipykernel)",
   "language": "python",
   "name": "python3"
  },
  "language_info": {
   "codemirror_mode": {
    "name": "ipython",
    "version": 3
   },
   "file_extension": ".py",
   "mimetype": "text/x-python",
   "name": "python",
   "nbconvert_exporter": "python",
   "pygments_lexer": "ipython3",
   "version": "3.10.12"
  }
 },
 "nbformat": 4,
 "nbformat_minor": 5
}
