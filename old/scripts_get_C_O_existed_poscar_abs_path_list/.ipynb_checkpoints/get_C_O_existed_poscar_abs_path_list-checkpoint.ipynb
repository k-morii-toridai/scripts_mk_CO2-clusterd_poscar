{
 "cells": [
  {
   "cell_type": "code",
   "execution_count": null,
   "id": "c2e91b82-c865-481f-8b45-df63c5aee482",
   "metadata": {},
   "outputs": [],
   "source": [
    "import numpy as np\n",
    "from tqdm import tqdm \n",
    "from multiprocessing import Pool, cpu_count\n",
    "\n",
    "\n",
    "# poscar_abs_path_listをload\n",
    "poscar_abs_path_list_loaded = np.load('/mnt/ssd_elecom_black_c2c/scripts_get_poscar_abs_path_list/poscar_abs_path_list.npy', allow_pickle=True)\n",
    "print(f\"len(poscar_abs_path_list_loaded): {len(poscar_abs_path_list_loaded)}\")\n",
    "\n",
    "\n",
    "def return_C_O_exist(poscar_path):\n",
    "    def get_species_from_poscar(poscar_path):\n",
    "        # POSCARファイルから元素種の行から元素種を取り出す\n",
    "        with open(poscar_path, mode='r') as f:\n",
    "            poscar_line_list = f.readlines()\n",
    "            # poscarからspeciesをリストで取得\n",
    "            species_list = set(poscar_line_list[5][:-1].split(' '))\n",
    "            species_list.discard('')\n",
    "            return species_list\n",
    "\n",
    "    return set(['C', 'O']) <= set(get_species_from_poscar(poscar_path))\n",
    "\n",
    "\n",
    "# return_C_O_exist()を並列化して実行\n",
    "p = Pool(cpu_count() - 1)\n",
    "bool_C_O_exist_list = list(tqdm(p.imap(return_C_O_exist, poscar_abs_path_list_loaded), total=len(poscar_abs_path_list_loaded)))\n",
    "p.close()\n",
    "p.join()\n",
    "\n",
    "\n",
    "# CとOを含むPOSCARファイルを抽出し，そのリストを.npy形式で保存\n",
    "C_O_existed_poscar_abs_path_list = poscar_abs_path_list_loaded[bool_C_O_exist_list]\n",
    "print(f\"len(C_O_existed_poscar_abs_path_list): {len(C_O_existed_poscar_abs_path_list)}\")\n",
    "np.save('C_O_existed_poscar_abs_path_list.npy', C_O_existed_poscar_abs_path_list)\n",
    "print(f\"C_O_existed_poscar_abs_path_list was saved as C_O_existed_poscar_abs_path_list.npy!!!\")\n"
   ]
  },
  {
   "cell_type": "code",
   "execution_count": null,
   "id": "94751769-35b5-44d0-b0da-f009caf6245b",
   "metadata": {},
   "outputs": [],
   "source": []
  },
  {
   "cell_type": "code",
   "execution_count": null,
   "id": "5cb98cad-34bb-494e-b516-9c9a63e94aa2",
   "metadata": {},
   "outputs": [],
   "source": []
  },
  {
   "cell_type": "code",
   "execution_count": null,
   "id": "ae0bf30d-bceb-4717-9728-9d8bb60935c5",
   "metadata": {
    "tags": []
   },
   "outputs": [],
   "source": [
    "# confirm\n",
    "C_O_existed_poscar_abs_path_list_loaded = np.load(\"C_O_existed_poscar_abs_path_list.npy\", allow_pickle=True)\n",
    "print(f\"len(C_O_existed_poscar_abs_path_list_loaded): {len(C_O_existed_poscar_abs_path_list_loaded)}\")"
   ]
  }
 ],
 "metadata": {
  "kernelspec": {
   "display_name": "Python 3 (ipykernel)",
   "language": "python",
   "name": "python3"
  },
  "language_info": {
   "codemirror_mode": {
    "name": "ipython",
    "version": 3
   },
   "file_extension": ".py",
   "mimetype": "text/x-python",
   "name": "python",
   "nbconvert_exporter": "python",
   "pygments_lexer": "ipython3",
   "version": "3.10.12"
  }
 },
 "nbformat": 4,
 "nbformat_minor": 5
}
