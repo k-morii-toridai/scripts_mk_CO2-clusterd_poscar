{
 "cells": [
  {
   "cell_type": "code",
   "execution_count": 1,
   "id": "33670317-9164-465a-89a4-aa0b84658ebb",
   "metadata": {
    "tags": []
   },
   "outputs": [],
   "source": [
    "%load_ext autoreload\n",
    "%autoreload 2"
   ]
  },
  {
   "cell_type": "code",
   "execution_count": 33,
   "id": "183b8482-547d-4285-aaeb-2ccd1afbcb80",
   "metadata": {
    "tags": []
   },
   "outputs": [],
   "source": [
    "from my_package.textfile2df import nnlist2df\n",
    "\n",
    "\n",
    "def bool_CO3_contained_poscar(POSCAR_nnlist):\n",
    "    df_nnlist = nnlist2df(POSCAR_nnlist)\n",
    "    \n",
    "    # df_nnlistでcentral speciesがCのものに絞る\n",
    "    df_nnlist_central_species_C = df_nnlist[df_nnlist['central species'] == 'C']\n",
    "    \n",
    "    # さらに，炭酸イオンかどうかを判定するためにに，あるcentral atomのneighboring speciesがCとO３つの計４つでできているか確認したい\n",
    "    # central atomの値を入力すれば，neighboring speciesのリストを返す関数get_neighboring_species_list()を作成\n",
    "    def get_neighboring_species_list(central_atom_id, df=df_nnlist_central_species_C):\n",
    "            \"\"\"\n",
    "            To get all central atoms of a cluster(:neighbors), Input a number of cluster center element number(:central atom)\n",
    "\n",
    "            Input: central atom column element In df_nnlist\n",
    "         -> Output: All neighboring atom column element that Input(:elemnt) match central atom column element\n",
    "\n",
    "            param1: Input: central atom column element In df_nnlist\n",
    "            \"\"\"\n",
    "            # 左側の列から対応する行を選択し、右側の数値を取得\n",
    "            # result = df_nnlist[df_nnlist['central atom'] == input_value]['neighboring atom'].values\n",
    "            neighboring_species_list = df[df['central atom'] == central_atom_id]['neighboring species'].tolist()\n",
    "            return neighboring_species_list\n",
    "    \n",
    "\n",
    "    def match_C_O_3(central_atom_id):\n",
    "        # 原子団の要素数は，Cが1つ，Oが3つの計4つかどうかcheck\n",
    "        if len(get_neighboring_species_list(central_atom_id)) == 4:\n",
    "            # 原子団の要素にCが1つだけ含まれているかどうかcheck\n",
    "            if get_neighboring_species_list(central_atom_id).count('C') == 1:\n",
    "                # 原子団の要素にOがちょうど3つ含まれているかどうかcheck\n",
    "                if get_neighboring_species_list(central_atom_id).count('O') == 3:\n",
    "                    return True\n",
    "            else:\n",
    "                return False\n",
    "        else:\n",
    "            return False\n",
    "        \n",
    "        \n",
    "    # df_nnlist_central_species_Cに対し，CO3がどうかを確認し，CO3である原子のid一覧を取得\n",
    "    # まず，中心元素がCのid一覧(central atomの値の一覧)を取得\n",
    "    central_species_C_list = df_nnlist_central_species_C['central atom'].unique()\n",
    "    # その中で，match_C_O_3()を用いて，過不足なくCO3だけを含むものに絞る\n",
    "    matched_central_species_C_list = [i for i in central_species_C_list if match_C_O_3(i)]\n",
    "     \n",
    "    return  True if len(matched_central_species_C_list) > 0 else False"
   ]
  },
  {
   "cell_type": "code",
   "execution_count": 4,
   "id": "b17b8a40-c009-48d4-aa88-7355e4fd81fc",
   "metadata": {
    "tags": []
   },
   "outputs": [],
   "source": [
    "import numpy as np\n",
    "# C_O_existed_pos_nnlist_path_listを.npyからload\n",
    "C_O_existed_pos_nnlist_path_list_loaded = np.load('../scripts_mk_C_O_contained_poscar_filter/C_O_existed_pos_nnlist_path_list.npy', allow_pickle=True)"
   ]
  },
  {
   "cell_type": "code",
   "execution_count": 5,
   "id": "6fbedc6d-39b1-4713-926f-f62e1b733517",
   "metadata": {
    "tags": []
   },
   "outputs": [
    {
     "data": {
      "text/plain": [
       "array(['../cif/1/00/00/1000000/POSCAR.nnlist',\n",
       "       '../cif/1/00/00/1000001/POSCAR.nnlist',\n",
       "       '../cif/1/00/00/1000002/POSCAR.nnlist', ...,\n",
       "       '../cif/9/01/78/9017813/POSCAR.nnlist',\n",
       "       '../cif/9/01/78/9017837/POSCAR.nnlist',\n",
       "       '../cif/9/01/79/9017907/POSCAR.nnlist'], dtype='<U36')"
      ]
     },
     "execution_count": 5,
     "metadata": {},
     "output_type": "execute_result"
    }
   ],
   "source": [
    "C_O_existed_pos_nnlist_path_list_loaded"
   ]
  },
  {
   "cell_type": "code",
   "execution_count": 6,
   "id": "722d3cba-07c1-49bf-8290-5579c9d3b358",
   "metadata": {
    "tags": []
   },
   "outputs": [],
   "source": [
    "C_O_existed_pos_nnlist_abspath_list = ['/mnt/ssd_elecom_black_c2c/' + i[3:] for i in C_O_existed_pos_nnlist_path_list_loaded]"
   ]
  },
  {
   "cell_type": "code",
   "execution_count": 84,
   "id": "cd0488ab-498a-4169-8362-8e066b43598b",
   "metadata": {
    "tags": []
   },
   "outputs": [],
   "source": [
    "# set([i[-7:] for i in C_O_existed_pos_nnlist_path_list_loaded])"
   ]
  },
  {
   "cell_type": "code",
   "execution_count": null,
   "id": "78ef8554-2db2-4aa7-af96-a42a3042fa7c",
   "metadata": {
    "tags": []
   },
   "outputs": [],
   "source": [
    "# check exist of C_O_existed_pos.nnlist\n",
    "import os\n",
    "from multiprocessing import Pool, cpu_count\n",
    "from tqdm import tqdm\n",
    "p = Pool(cpu_count() - 1)\n",
    "try:\n",
    "    bool_exist_or_not = list(tqdm(p.imap(os.path.exists, C_O_existed_pos_nnlist_abspath_list), total=len(C_O_existed_pos_nnlist_abspath_list)))\n",
    "finally:\n",
    "    p.close()\n",
    "    p.join()"
   ]
  },
  {
   "cell_type": "code",
   "execution_count": 7,
   "id": "70ee1e48-6262-4625-94b9-94728754eb79",
   "metadata": {
    "tags": []
   },
   "outputs": [
    {
     "ename": "NameError",
     "evalue": "name 'bool_exist_or_not' is not defined",
     "output_type": "error",
     "traceback": [
      "\u001b[0;31m---------------------------------------------------------------------------\u001b[0m",
      "\u001b[0;31mNameError\u001b[0m                                 Traceback (most recent call last)",
      "Cell \u001b[0;32mIn[7], line 1\u001b[0m\n\u001b[0;32m----> 1\u001b[0m \u001b[38;5;28mset\u001b[39m(\u001b[43mbool_exist_or_not\u001b[49m)\n",
      "\u001b[0;31mNameError\u001b[0m: name 'bool_exist_or_not' is not defined"
     ]
    }
   ],
   "source": [
    "set(bool_exist_or_not)"
   ]
  },
  {
   "cell_type": "code",
   "execution_count": 72,
   "id": "10049a77-7532-41ee-8ba7-6fd506902715",
   "metadata": {
    "tags": []
   },
   "outputs": [
    {
     "data": {
      "text/plain": [
       "{True}"
      ]
     },
     "execution_count": 72,
     "metadata": {},
     "output_type": "execute_result"
    }
   ],
   "source": [
    "# # sample \n",
    "# set([bool_CO3_contained_poscar(i) for i in C_O_existed_pos_nnlist_abspath_list[0:1000]])"
   ]
  },
  {
   "cell_type": "code",
   "execution_count": 37,
   "id": "d24bd5c8-cda1-455e-a8f8-151fa02900a6",
   "metadata": {
    "tags": []
   },
   "outputs": [
    {
     "data": {
      "text/plain": [
       "True"
      ]
     },
     "execution_count": 37,
     "metadata": {},
     "output_type": "execute_result"
    }
   ],
   "source": [
    "bool_CO3_contained_poscar(C_O_existed_pos_nnlist_abspath_list[12])"
   ]
  },
  {
   "cell_type": "code",
   "execution_count": 41,
   "id": "601ad17e-2725-4b6e-9e77-4389e99790d0",
   "metadata": {
    "tags": []
   },
   "outputs": [
    {
     "name": "stderr",
     "output_type": "stream",
     "text": [
      "100%|████████████████████████████████████████████████████████████████████████████████████████████████████| 205732/205732 [1:06:58<00:00, 51.20it/s]\n"
     ]
    }
   ],
   "source": [
    "from multiprocessing import Pool, cpu_count\n",
    "from tqdm import tqdm\n",
    "p = Pool(cpu_count() - 1)\n",
    "try:\n",
    "    bool_CO3_contained_nnlist_list = list(tqdm(p.imap(bool_CO3_contained_poscar, C_O_existed_pos_nnlist_abspath_list), total=len(C_O_existed_pos_nnlist_abspath_list)))\n",
    "finally:\n",
    "    p.close()\n",
    "    p.join()"
   ]
  },
  {
   "cell_type": "code",
   "execution_count": 57,
   "id": "68cd8f45-59aa-4295-8afb-fdcaf51a7bad",
   "metadata": {
    "tags": []
   },
   "outputs": [
    {
     "data": {
      "text/plain": [
       "1100"
      ]
     },
     "execution_count": 57,
     "metadata": {},
     "output_type": "execute_result"
    }
   ],
   "source": [
    "len(np.array(C_O_existed_pos_nnlist_abspath_list)[bool_CO3_contained_nnlist_list])"
   ]
  },
  {
   "cell_type": "code",
   "execution_count": 58,
   "id": "ed02888c-c770-4c38-bd68-f71756d10f3a",
   "metadata": {
    "tags": []
   },
   "outputs": [
    {
     "data": {
      "text/plain": [
       "205732"
      ]
     },
     "execution_count": 58,
     "metadata": {},
     "output_type": "execute_result"
    }
   ],
   "source": [
    "len(bool_CO3_contained_nnlist_list)"
   ]
  },
  {
   "cell_type": "code",
   "execution_count": 55,
   "id": "e9dd5e4a-a1b5-4a31-aceb-25e7561fe24f",
   "metadata": {
    "tags": []
   },
   "outputs": [],
   "source": [
    "CO3_contained_nnlist_abspath_list = np.array(C_O_existed_pos_nnlist_abspath_list)[bool_CO3_contained_nnlist_list]"
   ]
  },
  {
   "cell_type": "code",
   "execution_count": 56,
   "id": "48e7580c-cfee-415a-a12d-46c3e47484c1",
   "metadata": {
    "tags": []
   },
   "outputs": [],
   "source": [
    "np.save('CO3_contained_nnlist_abspath_list.npy' ,CO3_contained_nnlist_abspath_list )"
   ]
  },
  {
   "cell_type": "code",
   "execution_count": 61,
   "id": "778e1cc7-6dfd-492b-9a79-784d0ad7c098",
   "metadata": {
    "tags": []
   },
   "outputs": [],
   "source": [
    "CO3_contained_nnlist_abspath_list_loaded = np.load('CO3_contained_nnlist_abspath_list.npy', allow_pickle=True)"
   ]
  },
  {
   "cell_type": "code",
   "execution_count": 62,
   "id": "39394d08-0007-4a76-9429-45dd0a665c8d",
   "metadata": {
    "tags": []
   },
   "outputs": [
    {
     "data": {
      "text/plain": [
       "array(['/mnt/ssd_elecom_black_c2c/cif/1/00/00/1000033/POSCAR.nnlist',\n",
       "       '/mnt/ssd_elecom_black_c2c/cif/1/00/00/1000052/POSCAR.nnlist',\n",
       "       '/mnt/ssd_elecom_black_c2c/cif/1/00/03/1000320/POSCAR.nnlist', ...,\n",
       "       '/mnt/ssd_elecom_black_c2c/cif/9/01/77/9017727/POSCAR.nnlist',\n",
       "       '/mnt/ssd_elecom_black_c2c/cif/9/01/78/9017813/POSCAR.nnlist',\n",
       "       '/mnt/ssd_elecom_black_c2c/cif/9/01/78/9017837/POSCAR.nnlist'],\n",
       "      dtype='<U59')"
      ]
     },
     "execution_count": 62,
     "metadata": {},
     "output_type": "execute_result"
    }
   ],
   "source": [
    "CO3_contained_nnlist_abspath_list_loaded"
   ]
  }
 ],
 "metadata": {
  "kernelspec": {
   "display_name": "Python 3 (ipykernel)",
   "language": "python",
   "name": "python3"
  },
  "language_info": {
   "codemirror_mode": {
    "name": "ipython",
    "version": 3
   },
   "file_extension": ".py",
   "mimetype": "text/x-python",
   "name": "python",
   "nbconvert_exporter": "python",
   "pygments_lexer": "ipython3",
   "version": "3.10.12"
  }
 },
 "nbformat": 4,
 "nbformat_minor": 5
}
