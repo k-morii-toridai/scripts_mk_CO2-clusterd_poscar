{
 "cells": [
  {
   "cell_type": "code",
   "execution_count": 1,
   "id": "17989603-f824-419c-881d-8c9871ccf63f",
   "metadata": {
    "tags": []
   },
   "outputs": [
    {
     "name": "stdout",
     "output_type": "stream",
     "text": [
      "/mnt/ssd_elecom_black_c2c/scripts_mk_CO2-clusterd_poscar\n"
     ]
    }
   ],
   "source": [
    "!pwd"
   ]
  },
  {
   "cell_type": "code",
   "execution_count": 2,
   "id": "75d6b36d-5280-45de-a814-f8c7b467cd65",
   "metadata": {
    "tags": []
   },
   "outputs": [],
   "source": [
    "import numpy as np\n",
    "import os\n",
    "import subprocess\n",
    "from multiprocessing import Pool, cpu_count\n",
    "from tqdm import tqdm\n",
    "import time"
   ]
  },
  {
   "cell_type": "code",
   "execution_count": 8,
   "id": "576f7179-775d-47b1-a102-e71a57c586e5",
   "metadata": {
    "tags": []
   },
   "outputs": [
    {
     "name": "stdout",
     "output_type": "stream",
     "text": [
      "Now loading CO3_contained_nnlist_abspath_list from .npy file...\n",
      "CO3_contained_nnlist_abspath_list was loaded from .npy file!!!\n",
      "len(CO3_contained_nnlist_abspath_list) -> 1100 \n"
     ]
    }
   ],
   "source": [
    "print(f\"Now loading CO3_contained_nnlist_abspath_list from .npy file...\")\n",
    "CO3_contained_nnlist_abspath_list = np.load('scripts_get_CO3-contained_poscar_path_list/CO3_contained_nnlist_abspath_list.npy', allow_pickle=True)\n",
    "print(f\"CO3_contained_nnlist_abspath_list was loaded from .npy file!!!\")\n",
    "print(\"len(CO3_contained_nnlist_abspath_list) -> {} \".format(len(CO3_contained_nnlist_abspath_list)))"
   ]
  },
  {
   "cell_type": "code",
   "execution_count": 18,
   "id": "5b56d62c-d645-46fd-9d8d-9bbccbc19bd3",
   "metadata": {
    "tags": []
   },
   "outputs": [
    {
     "name": "stderr",
     "output_type": "stream",
     "text": [
      "100%|██████████████████████████████████████████████████████████████████████████████████████████████████████| 1100/1100 [00:00<00:00, 708606.11it/s]"
     ]
    },
    {
     "name": "stdout",
     "output_type": "stream",
     "text": [
      "nnlist_folder_abs_path was completely made!!!\n"
     ]
    },
    {
     "name": "stderr",
     "output_type": "stream",
     "text": [
      "\n"
     ]
    }
   ],
   "source": [
    "nnlist_folder_abs_path_list = [os.path.split(p)[0] for p in tqdm(CO3_contained_nnlist_abspath_list)]\n",
    "print(f\"nnlist_folder_abs_path was completely made!!!\")"
   ]
  },
  {
   "cell_type": "code",
   "execution_count": 16,
   "id": "fdfef277-49fb-4682-ad2f-4336594bb96e",
   "metadata": {},
   "outputs": [],
   "source": [
    "def cd_dir_and_do_script(folder_path):\n",
    "    # 1. Change current dir to dir that exists a POSCAR file\n",
    "    os.chdir(folder_path)\n",
    "    \n",
    "    # 2. Run script\n",
    "    error_list = []\n",
    "    try:\n",
    "        subprocess.run(['python3', '/mnt/ssd_elecom_black_c2c/scripts_mk_CO2-clusterd_poscar/mk_CO3-clusterd_poscar.py'], \n",
    "                       stdout=subprocess.DEVNULL, \n",
    "                       stderr=subprocess.DEVNULL,)\n",
    "    except Exception as e:\n",
    "        error_list.append(poscar_folder_path)"
   ]
  },
  {
   "cell_type": "code",
   "execution_count": 22,
   "id": "e23c2474-28c5-421b-8a05-28b247a980b4",
   "metadata": {
    "tags": []
   },
   "outputs": [],
   "source": [
    "def wrap_cd_dir_and_do_script(nnlist_folder_abs_path_list):\n",
    "    before = time.time()\n",
    "    try:\n",
    "        p = Pool(cpu_count() - 1)\n",
    "        print(f\"Now make some CO3-clusterd poscar file!!!\")\n",
    "        list(tqdm(p.imap(cd_dir_and_do_script, nnlist_folder_abs_path_list[0:10]), total=len(nnlist_folder_abs_path_list)))\n",
    "\n",
    "    finally:\n",
    "        p.close()\n",
    "        p.join()\n",
    "    after = time.time()\n",
    "    print(f\"it took {after - before}sec.\")"
   ]
  },
  {
   "cell_type": "code",
   "execution_count": 20,
   "id": "59e1f4da-618e-4526-913c-01f868fd9a60",
   "metadata": {
    "tags": []
   },
   "outputs": [
    {
     "name": "stdout",
     "output_type": "stream",
     "text": [
      "Now make some CO3-clusterd poscar file!!!\n"
     ]
    },
    {
     "name": "stderr",
     "output_type": "stream",
     "text": [
      "  1%|▉                                                                                                           | 10/1100 [00:01<03:16,  5.55it/s]"
     ]
    },
    {
     "name": "stdout",
     "output_type": "stream",
     "text": [
      "it took 1.875472068786621sec.\n"
     ]
    },
    {
     "name": "stderr",
     "output_type": "stream",
     "text": [
      "\n"
     ]
    }
   ],
   "source": [
    "wrap_cd_dir_and_do_script(nnlist_folder_abs_path_list)"
   ]
  },
  {
   "cell_type": "code",
   "execution_count": 21,
   "id": "df141474-a26f-4bb7-a27f-0fb47c883e0a",
   "metadata": {
    "tags": []
   },
   "outputs": [
    {
     "data": {
      "text/plain": [
       "['/mnt/ssd_elecom_black_c2c/cif/1/00/00/1000033',\n",
       " '/mnt/ssd_elecom_black_c2c/cif/1/00/00/1000052',\n",
       " '/mnt/ssd_elecom_black_c2c/cif/1/00/03/1000320',\n",
       " '/mnt/ssd_elecom_black_c2c/cif/1/00/03/1000330',\n",
       " '/mnt/ssd_elecom_black_c2c/cif/1/00/03/1000331',\n",
       " '/mnt/ssd_elecom_black_c2c/cif/1/00/03/1000361',\n",
       " '/mnt/ssd_elecom_black_c2c/cif/1/00/03/1000362',\n",
       " '/mnt/ssd_elecom_black_c2c/cif/1/00/03/1000372',\n",
       " '/mnt/ssd_elecom_black_c2c/cif/1/00/03/1000394',\n",
       " '/mnt/ssd_elecom_black_c2c/cif/1/00/04/1000450']"
      ]
     },
     "execution_count": 21,
     "metadata": {},
     "output_type": "execute_result"
    }
   ],
   "source": [
    "nnlist_folder_abs_path_list[0:10]"
   ]
  },
  {
   "cell_type": "code",
   "execution_count": 15,
   "id": "1bd60c2f-65c0-4b80-8657-f7b0bff9bd62",
   "metadata": {},
   "outputs": [
    {
     "name": "stdout",
     "output_type": "stream",
     "text": [
      "Now make some CO3-clusterd poscar file!!!\n"
     ]
    },
    {
     "name": "stderr",
     "output_type": "stream",
     "text": [
      "  0%|                                                                                                        | 10/205732 [00:01<9:39:27,  5.92it/s]"
     ]
    },
    {
     "name": "stdout",
     "output_type": "stream",
     "text": [
      "it took 1.7630562782287598sec.\n"
     ]
    },
    {
     "name": "stderr",
     "output_type": "stream",
     "text": [
      "\n"
     ]
    }
   ],
   "source": [
    "# before = time.time()\n",
    "# try:\n",
    "#     p = Pool(cpu_count() - 1)\n",
    "#     print(f\"Now make some CO3-clusterd poscar file!!!\")\n",
    "#     list(tqdm(p.imap(cd_dir_and_do_script, poscar_folder_abs_path[0:10]), total=len(poscar_folder_abs_path)))\n",
    "    \n",
    "# finally:\n",
    "#     p.close()\n",
    "#     p.join()\n",
    "# after = time.time()\n",
    "# print(f\"it took {after - before}sec.\")\n"
   ]
  }
 ],
 "metadata": {
  "kernelspec": {
   "display_name": "Python 3 (ipykernel)",
   "language": "python",
   "name": "python3"
  },
  "language_info": {
   "codemirror_mode": {
    "name": "ipython",
    "version": 3
   },
   "file_extension": ".py",
   "mimetype": "text/x-python",
   "name": "python",
   "nbconvert_exporter": "python",
   "pygments_lexer": "ipython3",
   "version": "3.10.12"
  }
 },
 "nbformat": 4,
 "nbformat_minor": 5
}
