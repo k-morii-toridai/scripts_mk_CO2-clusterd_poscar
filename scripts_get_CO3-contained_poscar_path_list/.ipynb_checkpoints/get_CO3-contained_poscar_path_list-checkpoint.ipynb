{
 "cells": [
  {
   "cell_type": "code",
   "execution_count": 78,
   "id": "33670317-9164-465a-89a4-aa0b84658ebb",
   "metadata": {
    "tags": []
   },
   "outputs": [],
   "source": [
    "%load_ext autoreload\n",
    "%autoreload 2"
   ]
  },
  {
   "cell_type": "code",
   "execution_count": 79,
   "id": "183b8482-547d-4285-aaeb-2ccd1afbcb80",
   "metadata": {
    "tags": []
   },
   "outputs": [],
   "source": [
    "from my_package.textfile2df import nnlist2df\n",
    "\n",
    "\n",
    "def bool_CO3_contained_poscar(POSCAR_nnlist='POSCAR.nnlist'):\n",
    "    df_nnlist = nnlist2df(POSCAR_nnlist='POSCAR.nnlist')\n",
    "    \n",
    "    # df_nnlistでcentral speciesがCのものに絞る\n",
    "    df_nnlist_central_species_C = df_nnlist[df_nnlist['central species'] == 'C']\n",
    "    \n",
    "    # さらに，炭酸イオンかどうかを判定するためにに，あるcentral atomのneighboring speciesがCとO３つの計４つでできているか確認したい\n",
    "    # central atomの値を入力すれば，neighboring speciesのリストを返す関数get_neighboring_species_list()を作成\n",
    "    def get_neighboring_species_list(central_atom_id, df=df_nnlist_central_species_C):\n",
    "            \"\"\"\n",
    "            To get all central atoms of a cluster(:neighbors), Input a number of cluster center element number(:central atom)\n",
    "\n",
    "            Input: central atom column element In df_nnlist\n",
    "         -> Output: All neighboring atom column element that Input(:elemnt) match central atom column element\n",
    "\n",
    "            param1: Input: central atom column element In df_nnlist\n",
    "            \"\"\"\n",
    "            # 左側の列から対応する行を選択し、右側の数値を取得\n",
    "            # result = df_nnlist[df_nnlist['central atom'] == input_value]['neighboring atom'].values\n",
    "            neighboring_species_list = df[df['central atom'] == central_atom_id]['neighboring species'].tolist()\n",
    "            return neighboring_species_list\n",
    "    \n",
    "\n",
    "    def match_C_O_3(central_atom_id):\n",
    "        # 原子団の要素数は，Cが1つ，Oが3つの計4つかどうかcheck\n",
    "        if len(get_neighboring_species_list(central_atom_id)) == 4:\n",
    "            # 原子団の要素にCが1つだけ含まれているかどうかcheck\n",
    "            if get_neighboring_species_list(central_atom_id).count('C') == 1:\n",
    "                # 原子団の要素にOがちょうど3つ含まれているかどうかcheck\n",
    "                if get_neighboring_species_list(central_atom_id).count('O') == 3:\n",
    "                    return True\n",
    "            else:\n",
    "                return False\n",
    "        else:\n",
    "            return False\n",
    "        \n",
    "        \n",
    "    # df_nnlist_central_species_Cに対し，CO3がどうかを確認し，CO3である原子のid一覧を取得\n",
    "    # まず，中心元素がCのid一覧(central atomの値の一覧)を取得\n",
    "    central_species_C_list = df_nnlist_central_species_C['central atom'].unique()\n",
    "    # その中で，match_C_O_3()を用いて，過不足なくCO3だけを含むものに絞る\n",
    "    matched_central_species_C_list = [i for i in central_species_C_list if match_C_O_3(i)]\n",
    "     \n",
    "    return  True if len(matched_central_species_C_list) > 0 else False"
   ]
  },
  {
   "cell_type": "code",
   "execution_count": 80,
   "id": "a237e4da-16e6-4563-84d2-185fac074601",
   "metadata": {
    "tags": []
   },
   "outputs": [
    {
     "data": {
      "text/plain": [
       "True"
      ]
     },
     "execution_count": 80,
     "metadata": {},
     "output_type": "execute_result"
    }
   ],
   "source": [
    "bool_CO3_contained_poscar()"
   ]
  },
  {
   "cell_type": "code",
   "execution_count": 81,
   "id": "b17b8a40-c009-48d4-aa88-7355e4fd81fc",
   "metadata": {
    "tags": []
   },
   "outputs": [],
   "source": [
    "import numpy as np\n",
    "# C_O_existed_pos_nnlist_path_listを.npyからload\n",
    "C_O_existed_pos_nnlist_path_list_loaded = np.load('../scripts_mk_C_O_contained_poscar_filter/C_O_existed_pos_nnlist_path_list.npy', allow_pickle=True)"
   ]
  },
  {
   "cell_type": "code",
   "execution_count": 82,
   "id": "6fbedc6d-39b1-4713-926f-f62e1b733517",
   "metadata": {
    "tags": []
   },
   "outputs": [
    {
     "data": {
      "text/plain": [
       "array(['../cif/1/00/00/1000000/POSCAR.nnlist',\n",
       "       '../cif/1/00/00/1000001/POSCAR.nnlist',\n",
       "       '../cif/1/00/00/1000002/POSCAR.nnlist', ...,\n",
       "       '../cif/9/01/78/9017813/POSCAR.nnlist',\n",
       "       '../cif/9/01/78/9017837/POSCAR.nnlist',\n",
       "       '../cif/9/01/79/9017907/POSCAR.nnlist'], dtype='<U36')"
      ]
     },
     "execution_count": 82,
     "metadata": {},
     "output_type": "execute_result"
    }
   ],
   "source": [
    "C_O_existed_pos_nnlist_path_list_loaded"
   ]
  },
  {
   "cell_type": "code",
   "execution_count": 83,
   "id": "722d3cba-07c1-49bf-8290-5579c9d3b358",
   "metadata": {
    "tags": []
   },
   "outputs": [],
   "source": [
    "C_O_existed_pos_nnlist_abspath_list = ['/mnt/ssd_elecom_black_c2c/' + i[3:] for i in C_O_existed_pos_nnlist_path_list_loaded]"
   ]
  },
  {
   "cell_type": "code",
   "execution_count": 84,
   "id": "cd0488ab-498a-4169-8362-8e066b43598b",
   "metadata": {
    "tags": []
   },
   "outputs": [],
   "source": [
    "# set([i[-7:] for i in C_O_existed_pos_nnlist_path_list_loaded])"
   ]
  },
  {
   "cell_type": "code",
   "execution_count": null,
   "id": "78ef8554-2db2-4aa7-af96-a42a3042fa7c",
   "metadata": {
    "tags": []
   },
   "outputs": [],
   "source": [
    "# import os\n",
    "# from multiprocessing import Pool, cpu_count\n",
    "# from tqdm import tqdm\n",
    "# p = Pool(cpu_count() - 1)\n",
    "# try:\n",
    "#     bool_exist_or_not = list(tqdm(p.imap(os.path.exists, C_O_existed_pos_nnlist_abspath_list), total=len(C_O_existed_pos_nnlist_abspath_list)))\n",
    "# finally:\n",
    "#     p.close()\n",
    "#     p.join()"
   ]
  },
  {
   "cell_type": "code",
   "execution_count": 52,
   "id": "70ee1e48-6262-4625-94b9-94728754eb79",
   "metadata": {
    "tags": []
   },
   "outputs": [
    {
     "data": {
      "text/plain": [
       "{True}"
      ]
     },
     "execution_count": 52,
     "metadata": {},
     "output_type": "execute_result"
    }
   ],
   "source": [
    "set(bool_exist_or_not)"
   ]
  },
  {
   "cell_type": "code",
   "execution_count": 72,
   "id": "10049a77-7532-41ee-8ba7-6fd506902715",
   "metadata": {
    "tags": []
   },
   "outputs": [
    {
     "data": {
      "text/plain": [
       "{True}"
      ]
     },
     "execution_count": 72,
     "metadata": {},
     "output_type": "execute_result"
    }
   ],
   "source": [
    "# # sample \n",
    "# set([bool_CO3_contained_poscar(i) for i in C_O_existed_pos_nnlist_abspath_list[0:1000]])"
   ]
  },
  {
   "cell_type": "code",
   "execution_count": 77,
   "id": "601ad17e-2725-4b6e-9e77-4389e99790d0",
   "metadata": {
    "tags": []
   },
   "outputs": [
    {
     "name": "stderr",
     "output_type": "stream",
     "text": [
      "  0%|                                                                                                        | 10/205732 [00:00<4:58:58, 11.47it/s]\n"
     ]
    },
    {
     "ename": "EmptyDataError",
     "evalue": "No columns to parse from file",
     "output_type": "error",
     "traceback": [
      "\u001b[0;31m---------------------------------------------------------------------------\u001b[0m",
      "\u001b[0;31mRemoteTraceback\u001b[0m                           Traceback (most recent call last)",
      "\u001b[0;31mRemoteTraceback\u001b[0m: \n\"\"\"\nTraceback (most recent call last):\n  File \"/usr/lib/python3.10/multiprocessing/pool.py\", line 125, in worker\n    result = (True, func(*args, **kwds))\n  File \"/tmp/ipykernel_1018649/2109643635.py\", line 9, in bool_CO3_contained_poscar\n    df_nnlist = nnlist2df(POSCAR_nnlist='POSCAR.nnlist')\n  File \"/mnt/ssd_elecom_black_c2c/scripts_mk_CO2-clusterd_poscar/scripts_get_CO3-contained_poscar_path_list/my_package/textfile2df.py\", line 87, in nnlist2df\n    df_nnlist = pd.read_csv(output_csv_fname)\n  File \"/home/morii-k/.local/lib/python3.10/site-packages/pandas/util/_decorators.py\", line 211, in wrapper\n    return func(*args, **kwargs)\n  File \"/home/morii-k/.local/lib/python3.10/site-packages/pandas/util/_decorators.py\", line 317, in wrapper\n    return func(*args, **kwargs)\n  File \"/home/morii-k/.local/lib/python3.10/site-packages/pandas/io/parsers/readers.py\", line 950, in read_csv\n    return _read(filepath_or_buffer, kwds)\n  File \"/home/morii-k/.local/lib/python3.10/site-packages/pandas/io/parsers/readers.py\", line 605, in _read\n    parser = TextFileReader(filepath_or_buffer, **kwds)\n  File \"/home/morii-k/.local/lib/python3.10/site-packages/pandas/io/parsers/readers.py\", line 1442, in __init__\n    self._engine = self._make_engine(f, self.engine)\n  File \"/home/morii-k/.local/lib/python3.10/site-packages/pandas/io/parsers/readers.py\", line 1747, in _make_engine\n    return mapping[engine](f, **self.options)\n  File \"/home/morii-k/.local/lib/python3.10/site-packages/pandas/io/parsers/c_parser_wrapper.py\", line 92, in __init__\n    self._reader = parsers.TextReader(src, **kwds)\n  File \"pandas/_libs/parsers.pyx\", line 554, in pandas._libs.parsers.TextReader.__cinit__\npandas.errors.EmptyDataError: No columns to parse from file\n\"\"\"",
      "\nThe above exception was the direct cause of the following exception:\n",
      "\u001b[0;31mEmptyDataError\u001b[0m                            Traceback (most recent call last)",
      "Cell \u001b[0;32mIn[77], line 5\u001b[0m\n\u001b[1;32m      3\u001b[0m p \u001b[38;5;241m=\u001b[39m Pool(cpu_count() \u001b[38;5;241m-\u001b[39m \u001b[38;5;241m1\u001b[39m)\n\u001b[1;32m      4\u001b[0m \u001b[38;5;28;01mtry\u001b[39;00m:\n\u001b[0;32m----> 5\u001b[0m     bool_CO3_contained_nnlist_list \u001b[38;5;241m=\u001b[39m \u001b[38;5;28;43mlist\u001b[39;49m\u001b[43m(\u001b[49m\u001b[43mtqdm\u001b[49m\u001b[43m(\u001b[49m\u001b[43mp\u001b[49m\u001b[38;5;241;43m.\u001b[39;49m\u001b[43mimap\u001b[49m\u001b[43m(\u001b[49m\u001b[43mbool_CO3_contained_poscar\u001b[49m\u001b[43m,\u001b[49m\u001b[43m \u001b[49m\u001b[43mC_O_existed_pos_nnlist_abspath_list\u001b[49m\u001b[43m[\u001b[49m\u001b[38;5;241;43m0\u001b[39;49m\u001b[43m:\u001b[49m\u001b[38;5;241;43m100\u001b[39;49m\u001b[43m]\u001b[49m\u001b[43m)\u001b[49m\u001b[43m,\u001b[49m\u001b[43m \u001b[49m\u001b[43mtotal\u001b[49m\u001b[38;5;241;43m=\u001b[39;49m\u001b[38;5;28;43mlen\u001b[39;49m\u001b[43m(\u001b[49m\u001b[43mC_O_existed_pos_nnlist_abspath_list\u001b[49m\u001b[43m)\u001b[49m\u001b[43m)\u001b[49m\u001b[43m)\u001b[49m\n\u001b[1;32m      6\u001b[0m \u001b[38;5;28;01mfinally\u001b[39;00m:\n\u001b[1;32m      7\u001b[0m     p\u001b[38;5;241m.\u001b[39mclose()\n",
      "File \u001b[0;32m~/.local/lib/python3.10/site-packages/tqdm/std.py:1178\u001b[0m, in \u001b[0;36mtqdm.__iter__\u001b[0;34m(self)\u001b[0m\n\u001b[1;32m   1175\u001b[0m time \u001b[38;5;241m=\u001b[39m \u001b[38;5;28mself\u001b[39m\u001b[38;5;241m.\u001b[39m_time\n\u001b[1;32m   1177\u001b[0m \u001b[38;5;28;01mtry\u001b[39;00m:\n\u001b[0;32m-> 1178\u001b[0m     \u001b[38;5;28;01mfor\u001b[39;00m obj \u001b[38;5;129;01min\u001b[39;00m iterable:\n\u001b[1;32m   1179\u001b[0m         \u001b[38;5;28;01myield\u001b[39;00m obj\n\u001b[1;32m   1180\u001b[0m         \u001b[38;5;66;03m# Update and possibly print the progressbar.\u001b[39;00m\n\u001b[1;32m   1181\u001b[0m         \u001b[38;5;66;03m# Note: does not call self.update(1) for speed optimisation.\u001b[39;00m\n",
      "File \u001b[0;32m/usr/lib/python3.10/multiprocessing/pool.py:873\u001b[0m, in \u001b[0;36mIMapIterator.next\u001b[0;34m(self, timeout)\u001b[0m\n\u001b[1;32m    871\u001b[0m \u001b[38;5;28;01mif\u001b[39;00m success:\n\u001b[1;32m    872\u001b[0m     \u001b[38;5;28;01mreturn\u001b[39;00m value\n\u001b[0;32m--> 873\u001b[0m \u001b[38;5;28;01mraise\u001b[39;00m value\n",
      "\u001b[0;31mEmptyDataError\u001b[0m: No columns to parse from file"
     ]
    }
   ],
   "source": [
    "from multiprocessing import Pool, cpu_count\n",
    "from tqdm import tqdm\n",
    "p = Pool(cpu_count() - 1)\n",
    "try:\n",
    "    bool_CO3_contained_nnlist_list = list(tqdm(p.imap(bool_CO3_contained_poscar, C_O_existed_pos_nnlist_abspath_list[0:100]), total=len(C_O_existed_pos_nnlist_abspath_list)))\n",
    "finally:\n",
    "    p.close()\n",
    "    p.join()"
   ]
  },
  {
   "cell_type": "code",
   "execution_count": null,
   "id": "069872ce-bfad-4268-8143-4f4ac0b12c8a",
   "metadata": {},
   "outputs": [],
   "source": [
    " "
   ]
  }
 ],
 "metadata": {
  "kernelspec": {
   "display_name": "Python 3 (ipykernel)",
   "language": "python",
   "name": "python3"
  },
  "language_info": {
   "codemirror_mode": {
    "name": "ipython",
    "version": 3
   },
   "file_extension": ".py",
   "mimetype": "text/x-python",
   "name": "python",
   "nbconvert_exporter": "python",
   "pygments_lexer": "ipython3",
   "version": "3.10.12"
  }
 },
 "nbformat": 4,
 "nbformat_minor": 5
}
