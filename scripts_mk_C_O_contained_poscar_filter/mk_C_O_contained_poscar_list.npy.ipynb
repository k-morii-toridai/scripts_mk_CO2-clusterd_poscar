{
 "cells": [
  {
   "cell_type": "code",
   "execution_count": 2,
   "id": "061fd10b-503a-4f8c-b5eb-b254258d122a",
   "metadata": {
    "tags": []
   },
   "outputs": [],
   "source": [
    "import numpy as np\n",
    "# C_O_existed_poscar_path_listを.npyからload\n",
    "C_O_existed_poscar_path_list_loaded = np.load('C_O_existed_poscar_path_list.npy', allow_pickle=True)"
   ]
  },
  {
   "cell_type": "code",
   "execution_count": 7,
   "id": "bfd93988-4966-4526-a971-449abac11c5c",
   "metadata": {
    "tags": []
   },
   "outputs": [],
   "source": [
    "C_O_existed_pos_nnlist_path_list = [str(i) + '.nnlist' for i in C_O_existed_poscar_path_list_loaded]\n",
    "# C_O_existed_pos_nnlist_path_listを.npyでsave\n",
    "np.save('C_O_existed_pos_nnlist_path_list.npy', C_O_existed_pos_nnlist_path_list)"
   ]
  },
  {
   "cell_type": "code",
   "execution_count": 18,
   "id": "95f6d1d4-7d13-41de-9606-a197cb29c62c",
   "metadata": {
    "tags": []
   },
   "outputs": [],
   "source": [
    "# C_O_existed_pos_nnlist_path_listを.npyからload\n",
    "C_O_existed_pos_nnlist_path_list_loaded = np.load('C_O_existed_pos_nnlist_path_list.npy', allow_pickle=True)"
   ]
  },
  {
   "cell_type": "code",
   "execution_count": 15,
   "id": "ff842fa7-3a21-4a2a-bc1d-3880b044a6ad",
   "metadata": {
    "tags": []
   },
   "outputs": [
    {
     "data": {
      "text/plain": [
       "array(['../cif/1/00/00/1000000/POSCAR.nnlist',\n",
       "       '../cif/1/00/00/1000001/POSCAR.nnlist',\n",
       "       '../cif/1/00/00/1000002/POSCAR.nnlist', ...,\n",
       "       '../cif/9/01/78/9017813/POSCAR.nnlist',\n",
       "       '../cif/9/01/78/9017837/POSCAR.nnlist',\n",
       "       '../cif/9/01/79/9017907/POSCAR.nnlist'], dtype='<U36')"
      ]
     },
     "execution_count": 15,
     "metadata": {},
     "output_type": "execute_result"
    }
   ],
   "source": [
    "C_O_existed_pos_nnlist_path_list_loaded"
   ]
  }
 ],
 "metadata": {
  "kernelspec": {
   "display_name": "Python 3 (ipykernel)",
   "language": "python",
   "name": "python3"
  },
  "language_info": {
   "codemirror_mode": {
    "name": "ipython",
    "version": 3
   },
   "file_extension": ".py",
   "mimetype": "text/x-python",
   "name": "python",
   "nbconvert_exporter": "python",
   "pygments_lexer": "ipython3",
   "version": "3.10.12"
  }
 },
 "nbformat": 4,
 "nbformat_minor": 5
}
