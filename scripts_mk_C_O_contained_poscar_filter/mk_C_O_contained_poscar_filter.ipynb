{
 "cells": [
  {
   "cell_type": "code",
   "execution_count": 1,
   "id": "74e97a2e-e405-4017-be07-1e17f87e2751",
   "metadata": {
    "tags": []
   },
   "outputs": [
    {
     "name": "stdout",
     "output_type": "stream",
     "text": [
      "/mnt/ssd_elecom_black_c2c/scripts_mk_CO2-clusterd_poscar/scripts_mk_C_O_contained_poscar_filter\n"
     ]
    }
   ],
   "source": [
    "!pwd"
   ]
  },
  {
   "cell_type": "code",
   "execution_count": 2,
   "id": "d478db07-5c38-42bf-a3d7-e7bff104f9c7",
   "metadata": {},
   "outputs": [],
   "source": [
    "import numpy as np"
   ]
  },
  {
   "cell_type": "code",
   "execution_count": 3,
   "id": "ee4d60ec-281a-47bf-8d71-4e7b982814c6",
   "metadata": {
    "tags": []
   },
   "outputs": [],
   "source": [
    "poscar_path_list_loaded = np.load('poscar_path_list.npy', allow_pickle=True)"
   ]
  },
  {
   "cell_type": "code",
   "execution_count": 6,
   "id": "aee15533-bfee-4c00-a329-922f6a5af113",
   "metadata": {
    "tags": []
   },
   "outputs": [
    {
     "name": "stdout",
     "output_type": "stream",
     "text": [
      "len(poscar_path_list_loaded): 308325\n"
     ]
    }
   ],
   "source": [
    "print(f\"len(poscar_path_list_loaded): {len(poscar_path_list_loaded)}\")"
   ]
  },
  {
   "cell_type": "code",
   "execution_count": 3,
   "id": "79489de7-6f69-4c7b-8dc3-8c09e12b78d6",
   "metadata": {
    "tags": []
   },
   "outputs": [],
   "source": [
    "def return_C_O_exist(poscar_path):\n",
    "    def get_species_from_poscar(poscar_path):\n",
    "        # POSCARファイルから元素種の行から元素種を取り出す\n",
    "        with open(poscar_path, mode='r') as f:\n",
    "            poscar_line_list = f.readlines()\n",
    "            # poscarからspeciesをリストで取得\n",
    "            species_list = set(poscar_line_list[5][:-1].split(' '))\n",
    "            species_list.discard('')\n",
    "            return species_list\n",
    "\n",
    "    return set(['C', 'O']) <= set(get_species_from_poscar(poscar_path))\n",
    "\n",
    "# test func\n",
    "# return_C_O_exist(poscar_path_list_loaded[6])"
   ]
  },
  {
   "cell_type": "code",
   "execution_count": 11,
   "id": "7103f8b0-8f3e-44e6-9191-d27f41ae8d07",
   "metadata": {
    "tags": []
   },
   "outputs": [
    {
     "name": "stderr",
     "output_type": "stream",
     "text": [
      "100%|███████████████████████████████████████████████████████████████████████████████████████████████████████████████| 308325/308325 [16:17<00:00, 315.42it/s]\n"
     ]
    }
   ],
   "source": [
    "from multiprocessing import Pool, cpu_count\n",
    "from tqdm import tqdm \n",
    "p = Pool(cpu_count() - 1)\n",
    "bool_C_O_exist_list = list(tqdm(p.imap(return_C_O_exist, poscar_path_list_loaded), total=len(poscar_path_list_loaded)))\n",
    "p.close()\n",
    "p.join()"
   ]
  },
  {
   "cell_type": "code",
   "execution_count": null,
   "id": "9fcad6dd-c611-4040-8acb-0d437d4ed067",
   "metadata": {},
   "outputs": [],
   "source": []
  },
  {
   "cell_type": "code",
   "execution_count": 15,
   "id": "3ef6914a-e55f-467e-be0d-a6eceef18c74",
   "metadata": {
    "tags": []
   },
   "outputs": [],
   "source": [
    "# bool_C_O_existをbool_C_O_exist.npyとして保存\n",
    "import numpy\n",
    "np.save('bool_C_O_exist_list.npy', bool_C_O_exist)"
   ]
  },
  {
   "cell_type": "code",
   "execution_count": 17,
   "id": "1c012ef6-2220-452b-a872-513e39dbc343",
   "metadata": {
    "tags": []
   },
   "outputs": [],
   "source": [
    "# C_O_existed_poscar_path_listを.npyからload\n",
    "C_O_existed_poscar_path_list_loaded = np.load('bool_C_O_exist_list.npy', allow_pickle=True)"
   ]
  },
  {
   "cell_type": "code",
   "execution_count": null,
   "id": "4462eeef-fc75-4bb7-84ca-c1b51020f14a",
   "metadata": {},
   "outputs": [],
   "source": []
  },
  {
   "cell_type": "code",
   "execution_count": 19,
   "id": "86e10a5f-35ba-4e57-92b7-f3df77ea8b7b",
   "metadata": {
    "tags": []
   },
   "outputs": [],
   "source": [
    "C_O_existed_poscar_path_list = poscar_path_list_loaded[bool_C_O_exist]"
   ]
  },
  {
   "cell_type": "code",
   "execution_count": 20,
   "id": "ed50bafc-4dc5-40b7-ad99-17a837f32234",
   "metadata": {
    "tags": []
   },
   "outputs": [],
   "source": [
    "# C_O_existed_poscar_path_listを.npyとして保存\n",
    "np.save('C_O_existed_poscar_path_list.npy', C_O_existed_poscar_path_list)"
   ]
  },
  {
   "cell_type": "code",
   "execution_count": 21,
   "id": "d2518d56-3803-4ae0-935b-7f6112fb7dd3",
   "metadata": {
    "tags": []
   },
   "outputs": [],
   "source": [
    "# C_O_existed_poscar_path_listを.npyからload\n",
    "C_O_existed_poscar_path_list_loaded = np.load('C_O_existed_poscar_path_list.npy', allow_pickle=True)"
   ]
  },
  {
   "cell_type": "code",
   "execution_count": null,
   "id": "c30e2a2e-2df8-4770-aaf2-9e83cea72890",
   "metadata": {},
   "outputs": [],
   "source": []
  }
 ],
 "metadata": {
  "kernelspec": {
   "display_name": "Python 3 (ipykernel)",
   "language": "python",
   "name": "python3"
  },
  "language_info": {
   "codemirror_mode": {
    "name": "ipython",
    "version": 3
   },
   "file_extension": ".py",
   "mimetype": "text/x-python",
   "name": "python",
   "nbconvert_exporter": "python",
   "pygments_lexer": "ipython3",
   "version": "3.10.12"
  }
 },
 "nbformat": 4,
 "nbformat_minor": 5
}
